{
 "cells": [
  {
   "cell_type": "code",
   "execution_count": 2,
   "id": "96810712-da40-43a0-85f1-63b6f0a9b086",
   "metadata": {},
   "outputs": [
    {
     "name": "stdout",
     "output_type": "stream",
     "text": [
      "False\n"
     ]
    }
   ],
   "source": [
    "def check_palindrome(string):\n",
    "    return string == string[::-1]"
   ]
  },
  {
   "cell_type": "code",
   "execution_count": 8,
   "id": "85f95f94-35c1-42b6-b513-86a6bc5b8947",
   "metadata": {},
   "outputs": [
    {
     "name": "stdout",
     "output_type": "stream",
     "text": [
      "True\n"
     ]
    }
   ],
   "source": [
    "check_palindrome = lambda string : string == string[::-1]\n",
    "print(check_palindrome('aa'))"
   ]
  },
  {
   "cell_type": "code",
   "execution_count": 19,
   "id": "687deb4f-a379-4d68-ab35-8baecb0ec784",
   "metadata": {},
   "outputs": [],
   "source": [
    "def check_e_in_txt(file_name):\n",
    "    file = open(file_name, 'r')\n",
    "    lines = file.readlines()\n",
    "    for line in lines:\n",
    "        words = line.split(' ')\n",
    "        for word in words:\n",
    "            if 'e' in word: \n",
    "                print(word)"
   ]
  },
  {
   "cell_type": "code",
   "execution_count": 20,
   "id": "74601471-ae1a-4307-8844-e04fba6bf2de",
   "metadata": {},
   "outputs": [
    {
     "name": "stdout",
     "output_type": "stream",
     "text": [
      "ever-evolving\n",
      "landscape,\n",
      "we\n",
      "embark\n",
      "journey\n",
      "explore\n",
      "the\n",
      "legal\n",
      "regulatory\n",
      "aspects\n",
      "cryptocurrencies,\n",
      "between\n",
      "practices\n",
      "the\n",
      "current\n",
      "legislation.\n",
      "governments\n",
      "worldwide\n",
      "strive\n",
      "establish\n",
      "comprehensive\n",
      "\n",
      "rules\n",
      "the\n",
      "use\n",
      "trade\n",
      "assets,\n",
      "we'll\n",
      "examine\n",
      "\n",
      "examples\n",
      "the\n",
      "assess\n",
      "regulatory\n",
      "framework\n",
      "differs.\n",
      "the\n",
      "United\n",
      "States\n",
      "diverse\n",
      "approaches\n",
      "progressive\n",
      "endeavors\n",
      "realm.\n",
      "\n",
      "exploration\n",
      "practices\n",
      "the\n",
      "current\n",
      "cryptocurrency\n",
      "legislation\n",
      "reveals\n",
      "landscape.\n",
      "While\n",
      "the\n",
      "\n",
      "United\n",
      "States,\n",
      "present\n",
      "diverse\n",
      "regulatory\n",
      "approaches,\n",
      "\n",
      "actively\n",
      "the\n",
      "feasibility\n",
      "implementing\n",
      "Central\n",
      "Currency\n",
      "fine-tuning\n",
      "system.\n",
      "the\n",
      "\n",
      "cryptocurrency\n",
      "evolves,\n",
      "the\n",
      "importance\n",
      "regulations\n",
      "becomes\n",
      "increasingly\n",
      "clear.\n",
      "Implementing\n",
      "\n",
      "these\n",
      "essential\n",
      "steps\n",
      "transparency\n",
      "the\n",
      "\n",
      "cryptocurrency\n",
      "ecosystem,\n",
      "economic\n",
      "resilience\n",
      "age.\n"
     ]
    }
   ],
   "source": [
    "check_e_in_txt('the_file.txt')"
   ]
  },
  {
   "cell_type": "code",
   "execution_count": 34,
   "id": "82773f01-ffc4-47be-9e4f-e08aeb12d4ae",
   "metadata": {},
   "outputs": [],
   "source": [
    "class UTM:\n",
    "    def check_e_in_txt(self, file_name):\n",
    "        file = open(file_name, 'r')\n",
    "        lines = file.readlines()\n",
    "        for line in lines:\n",
    "            words = line.split(' ')\n",
    "            for word in words:\n",
    "                if 'e' in word: \n",
    "                    print(word)\n",
    "        file.close()\n",
    "    def check_palindrome(self, string):\n",
    "        return string == string[::-1]"
   ]
  },
  {
   "cell_type": "code",
   "execution_count": 35,
   "id": "c14227f2-b360-49d6-b428-633d92c67765",
   "metadata": {},
   "outputs": [],
   "source": [
    "utm = UTM()"
   ]
  },
  {
   "cell_type": "code",
   "execution_count": 36,
   "id": "ed33bedf-4872-433b-926d-f68aff87ff0a",
   "metadata": {},
   "outputs": [
    {
     "name": "stdout",
     "output_type": "stream",
     "text": [
      "ever-evolving\n",
      "landscape,\n",
      "we\n",
      "embark\n",
      "journey\n",
      "explore\n",
      "the\n",
      "legal\n",
      "regulatory\n",
      "aspects\n",
      "cryptocurrencies,\n",
      "between\n",
      "practices\n",
      "the\n",
      "current\n",
      "legislation.\n",
      "governments\n",
      "worldwide\n",
      "strive\n",
      "establish\n",
      "comprehensive\n",
      "\n",
      "rules\n",
      "the\n",
      "use\n",
      "trade\n",
      "assets,\n",
      "we'll\n",
      "examine\n",
      "\n",
      "examples\n",
      "the\n",
      "assess\n",
      "regulatory\n",
      "framework\n",
      "differs.\n",
      "the\n",
      "United\n",
      "States\n",
      "diverse\n",
      "approaches\n",
      "progressive\n",
      "endeavors\n",
      "realm.\n",
      "\n",
      "exploration\n",
      "practices\n",
      "the\n",
      "current\n",
      "cryptocurrency\n",
      "legislation\n",
      "reveals\n",
      "landscape.\n",
      "While\n",
      "the\n",
      "\n",
      "United\n",
      "States,\n",
      "present\n",
      "diverse\n",
      "regulatory\n",
      "approaches,\n",
      "\n",
      "actively\n",
      "the\n",
      "feasibility\n",
      "implementing\n",
      "Central\n",
      "Currency\n",
      "fine-tuning\n",
      "system.\n",
      "the\n",
      "\n",
      "cryptocurrency\n",
      "evolves,\n",
      "the\n",
      "importance\n",
      "regulations\n",
      "becomes\n",
      "increasingly\n",
      "clear.\n",
      "Implementing\n",
      "\n",
      "these\n",
      "essential\n",
      "steps\n",
      "transparency\n",
      "the\n",
      "\n",
      "cryptocurrency\n",
      "ecosystem,\n",
      "economic\n",
      "resilience\n",
      "age.\n"
     ]
    }
   ],
   "source": [
    "utm.check_e_in_txt(\"the_file.txt\")"
   ]
  },
  {
   "cell_type": "code",
   "execution_count": 37,
   "id": "e38eb6f3-787a-43aa-ba2c-8f0d978241b4",
   "metadata": {},
   "outputs": [
    {
     "name": "stdout",
     "output_type": "stream",
     "text": [
      "True\n"
     ]
    }
   ],
   "source": [
    "print(utm.check_palindrome('aa'))"
   ]
  },
  {
   "cell_type": "code",
   "execution_count": 52,
   "id": "722baf79-af60-4af6-9250-577b6b7212c7",
   "metadata": {},
   "outputs": [],
   "source": [
    "class UTM:\n",
    "    def __init__(self, file_name, string):\n",
    "        self.file_name = file_name\n",
    "        self.string = string\n",
    "    \n",
    "    def check_e_in_txt(self):\n",
    "        file = open(self.file_name, 'r')\n",
    "        lines = file.readlines()\n",
    "        for line in lines:\n",
    "            words = line.split(' ')\n",
    "            for word in words:\n",
    "                if 'e' in word: \n",
    "                    print(word)\n",
    "        file.close()\n",
    "    \n",
    "    def check_palindrome(self):\n",
    "        return self.string == self.string[::-1]"
   ]
  },
  {
   "cell_type": "code",
   "execution_count": 53,
   "id": "c2053526-e932-4119-a6af-498bde7f2402",
   "metadata": {},
   "outputs": [],
   "source": [
    "utm = UTM(\"the_file.txt\", 'adda')"
   ]
  },
  {
   "cell_type": "code",
   "execution_count": 54,
   "id": "b3c6fbf0-6c1c-40ff-937d-c56b0ede5d62",
   "metadata": {},
   "outputs": [
    {
     "name": "stdout",
     "output_type": "stream",
     "text": [
      "True\n"
     ]
    }
   ],
   "source": [
    "print(utm.check_palindrome())"
   ]
  },
  {
   "cell_type": "code",
   "execution_count": 55,
   "id": "d8bcc0b4-c57e-42b5-bb9b-ee08e0cec4e0",
   "metadata": {},
   "outputs": [
    {
     "name": "stdout",
     "output_type": "stream",
     "text": [
      "ever-evolving\n",
      "landscape,\n",
      "we\n",
      "embark\n",
      "journey\n",
      "explore\n",
      "the\n",
      "legal\n",
      "regulatory\n",
      "aspects\n",
      "cryptocurrencies,\n",
      "between\n",
      "practices\n",
      "the\n",
      "current\n",
      "legislation.\n",
      "governments\n",
      "worldwide\n",
      "strive\n",
      "establish\n",
      "comprehensive\n",
      "\n",
      "rules\n",
      "the\n",
      "use\n",
      "trade\n",
      "assets,\n",
      "we'll\n",
      "examine\n",
      "\n",
      "examples\n",
      "the\n",
      "assess\n",
      "regulatory\n",
      "framework\n",
      "differs.\n",
      "the\n",
      "United\n",
      "States\n",
      "diverse\n",
      "approaches\n",
      "progressive\n",
      "endeavors\n",
      "realm.\n",
      "\n",
      "exploration\n",
      "practices\n",
      "the\n",
      "current\n",
      "cryptocurrency\n",
      "legislation\n",
      "reveals\n",
      "landscape.\n",
      "While\n",
      "the\n",
      "\n",
      "United\n",
      "States,\n",
      "present\n",
      "diverse\n",
      "regulatory\n",
      "approaches,\n",
      "\n",
      "actively\n",
      "the\n",
      "feasibility\n",
      "implementing\n",
      "Central\n",
      "Currency\n",
      "fine-tuning\n",
      "system.\n",
      "the\n",
      "\n",
      "cryptocurrency\n",
      "evolves,\n",
      "the\n",
      "importance\n",
      "regulations\n",
      "becomes\n",
      "increasingly\n",
      "clear.\n",
      "Implementing\n",
      "\n",
      "these\n",
      "essential\n",
      "steps\n",
      "transparency\n",
      "the\n",
      "\n",
      "cryptocurrency\n",
      "ecosystem,\n",
      "economic\n",
      "resilience\n",
      "age.\n"
     ]
    }
   ],
   "source": [
    "utm.check_e_in_txt()"
   ]
  },
  {
   "cell_type": "code",
   "execution_count": null,
   "id": "5a158c1c-455a-4fa5-b5d5-b78b37f82a70",
   "metadata": {},
   "outputs": [],
   "source": []
  }
 ],
 "metadata": {
  "kernelspec": {
   "display_name": "Python 3 (ipykernel)",
   "language": "python",
   "name": "python3"
  },
  "language_info": {
   "codemirror_mode": {
    "name": "ipython",
    "version": 3
   },
   "file_extension": ".py",
   "mimetype": "text/x-python",
   "name": "python",
   "nbconvert_exporter": "python",
   "pygments_lexer": "ipython3",
   "version": "3.10.8"
  }
 },
 "nbformat": 4,
 "nbformat_minor": 5
}
